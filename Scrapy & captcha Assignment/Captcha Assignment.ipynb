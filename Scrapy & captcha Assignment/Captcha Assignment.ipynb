{
 "cells": [
  {
   "cell_type": "code",
   "execution_count": 19,
   "id": "4d49d87b",
   "metadata": {},
   "outputs": [],
   "source": [
    "import os, random, time, sys\n",
    "import urllib\n",
    "import re\n",
    "import pydub, ffmpy\n",
    "import speech_recognition as sr\n",
    "from selenium import webdriver\n",
    "from selenium.webdriver.support.ui import WebDriverWait\n",
    "from selenium.webdriver.common.keys import Keys"
   ]
  },
  {
   "cell_type": "code",
   "execution_count": 20,
   "id": "0a8a5354",
   "metadata": {},
   "outputs": [],
   "source": [
    "browser = webdriver.Chrome(r\"C:\\Users\\Admin\\Documents\\Keshav\\Programming\\Web Scrapping\\driver\\chromedriver.exe\")\n",
    "browser.maximize_window()\n",
    "browser.get(\"https://safebrowsing.google.com/safebrowsing/report_phish/\")"
   ]
  },
  {
   "cell_type": "code",
   "execution_count": 21,
   "id": "822a0d1a",
   "metadata": {},
   "outputs": [],
   "source": [
    "url = 'www.googless.com'\n",
    "\n",
    "urlID = browser.find_element_by_id('url')\n",
    "urlID.send_keys(url)"
   ]
  },
  {
   "cell_type": "code",
   "execution_count": 22,
   "id": "4f2a5360",
   "metadata": {},
   "outputs": [],
   "source": [
    "frames = browser.find_elements_by_tag_name(\"iframe\")\n",
    "\n",
    "recaptcha_control_frame = None\n",
    "recaptcha_challenge_frame = None\n",
    "for index, frame in enumerate(frames):\n",
    "    if re.search('reCAPTCHA', frame.get_attribute(\"title\")):\n",
    "        recaptcha_control_frame = frame\n",
    "        \n",
    "    if re.search('recaptcha challenge', frame.get_attribute(\"title\")):\n",
    "        recaptcha_challenge_frame = frame"
   ]
  },
  {
   "cell_type": "code",
   "execution_count": null,
   "id": "0a81ba32",
   "metadata": {},
   "outputs": [],
   "source": [
    "browser.switch_to.frame(recaptcha_control_frame)\n",
    "time.sleep(2)\n",
    "browser.find_element_by_class_name(\"recaptcha-checkbox-border\").click()"
   ]
  },
  {
   "cell_type": "code",
   "execution_count": null,
   "id": "64a61207",
   "metadata": {},
   "outputs": [],
   "source": [
    "browser.switch_to.default_content()\n",
    "browser.switch_to.frame(recaptcha_challenge_frame)\n",
    "\n",
    "time.sleep(3)\n",
    "browser.find_element_by_id(\"recaptcha-audio-button\").click()"
   ]
  },
  {
   "cell_type": "code",
   "execution_count": null,
   "id": "7752ed41",
   "metadata": {
    "scrolled": true
   },
   "outputs": [],
   "source": [
    "src = browser.find_element_by_id(\"audio-source\").get_attribute(\"src\")\n",
    "\n",
    "path_mp3 = os.path.normpath(os.path.join(os.getcwd(), \"audio.mp3\"))\n",
    "path_wav = os.path.normpath(os.path.join(os.getcwd(), \"audio.wav\"))\n",
    "\n",
    "urllib.request.urlretrieve(src, path_mp3)"
   ]
  },
  {
   "cell_type": "code",
   "execution_count": null,
   "id": "ea7de78c",
   "metadata": {},
   "outputs": [],
   "source": [
    "captcha_sound = pydub.AudioSegment.from_mp3(path_mp3)\n",
    "captcha_sound.export(path_wav, format=\"wav\")\n",
    "captcha_audio = sr.AudioFile(path_wav)\n",
    "\n",
    "r = sr.Recognizer()\n",
    "with captcha_audio as source:\n",
    "    final_audio = r.record(source)\n",
    "text = r.recognize_google(final_audio)"
   ]
  },
  {
   "cell_type": "code",
   "execution_count": null,
   "id": "4a49800a",
   "metadata": {},
   "outputs": [],
   "source": [
    "time.sleep(3)\n",
    "browser.find_element_by_id(\"audio-response\").send_keys(text.lower())\n",
    "browser.find_element_by_id(\"audio-response\").send_keys(Keys.ENTER)"
   ]
  },
  {
   "cell_type": "code",
   "execution_count": null,
   "id": "34fdfa06",
   "metadata": {},
   "outputs": [],
   "source": [
    "browser.switch_to.default_content()\n",
    "time.sleep(3)\n",
    "browser.find_element_by_name(\"submit\").click()"
   ]
  }
 ],
 "metadata": {
  "kernelspec": {
   "display_name": "Python 3 (ipykernel)",
   "language": "python",
   "name": "python3"
  },
  "language_info": {
   "codemirror_mode": {
    "name": "ipython",
    "version": 3
   },
   "file_extension": ".py",
   "mimetype": "text/x-python",
   "name": "python",
   "nbconvert_exporter": "python",
   "pygments_lexer": "ipython3",
   "version": "3.9.6"
  }
 },
 "nbformat": 4,
 "nbformat_minor": 5
}
